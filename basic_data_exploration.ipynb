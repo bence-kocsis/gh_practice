{
  "cells": [
    {
      "cell_type": "markdown",
      "metadata": {},
      "source": [
        "# Basic Data Exploration\n",
        "\n",
        "This notebook demonstrates a simple workflow using a small, in-memory sample dataset created directly in the notebook (no external files).\n",
        "\n",
        "It builds a DataFrame with pandas, shows a quick preview and summary, and creates a simple plot."
      ]
    },
    {
      "cell_type": "code",
      "execution_count": 1,
      "metadata": {},
      "outputs": [
        {
          "data": {
            "application/vnd.microsoft.datawrangler.viewer.v0+json": {
              "columns": [
                {
                  "name": "index",
                  "rawType": "int64",
                  "type": "integer"
                },
                {
                  "name": "id",
                  "rawType": "int64",
                  "type": "integer"
                },
                {
                  "name": "name",
                  "rawType": "object",
                  "type": "string"
                },
                {
                  "name": "age",
                  "rawType": "int64",
                  "type": "integer"
                },
                {
                  "name": "city",
                  "rawType": "object",
                  "type": "string"
                },
                {
                  "name": "salary",
                  "rawType": "int64",
                  "type": "integer"
                }
              ],
              "ref": "50f2139f-0915-42f1-8d70-7743d7b43aa1",
              "rows": [
                [
                  "0",
                  "1",
                  "Alice",
                  "29",
                  "New York",
                  "85000"
                ],
                [
                  "1",
                  "2",
                  "Bob",
                  "35",
                  "San Francisco",
                  "120000"
                ],
                [
                  "2",
                  "3",
                  "Charlie",
                  "42",
                  "Chicago",
                  "95000"
                ],
                [
                  "3",
                  "4",
                  "Diana",
                  "31",
                  "Seattle",
                  "99000"
                ],
                [
                  "4",
                  "5",
                  "Eric",
                  "26",
                  "Austin",
                  "72000"
                ]
              ],
              "shape": {
                "columns": 5,
                "rows": 5
              }
            },
            "text/html": [
              "<div>\n",
              "<style scoped>\n",
              "    .dataframe tbody tr th:only-of-type {\n",
              "        vertical-align: middle;\n",
              "    }\n",
              "\n",
              "    .dataframe tbody tr th {\n",
              "        vertical-align: top;\n",
              "    }\n",
              "\n",
              "    .dataframe thead th {\n",
              "        text-align: right;\n",
              "    }\n",
              "</style>\n",
              "<table border=\"1\" class=\"dataframe\">\n",
              "  <thead>\n",
              "    <tr style=\"text-align: right;\">\n",
              "      <th></th>\n",
              "      <th>id</th>\n",
              "      <th>name</th>\n",
              "      <th>age</th>\n",
              "      <th>city</th>\n",
              "      <th>salary</th>\n",
              "    </tr>\n",
              "  </thead>\n",
              "  <tbody>\n",
              "    <tr>\n",
              "      <th>0</th>\n",
              "      <td>1</td>\n",
              "      <td>Alice</td>\n",
              "      <td>29</td>\n",
              "      <td>New York</td>\n",
              "      <td>85000</td>\n",
              "    </tr>\n",
              "    <tr>\n",
              "      <th>1</th>\n",
              "      <td>2</td>\n",
              "      <td>Bob</td>\n",
              "      <td>35</td>\n",
              "      <td>San Francisco</td>\n",
              "      <td>120000</td>\n",
              "    </tr>\n",
              "    <tr>\n",
              "      <th>2</th>\n",
              "      <td>3</td>\n",
              "      <td>Charlie</td>\n",
              "      <td>42</td>\n",
              "      <td>Chicago</td>\n",
              "      <td>95000</td>\n",
              "    </tr>\n",
              "    <tr>\n",
              "      <th>3</th>\n",
              "      <td>4</td>\n",
              "      <td>Diana</td>\n",
              "      <td>31</td>\n",
              "      <td>Seattle</td>\n",
              "      <td>99000</td>\n",
              "    </tr>\n",
              "    <tr>\n",
              "      <th>4</th>\n",
              "      <td>5</td>\n",
              "      <td>Eric</td>\n",
              "      <td>26</td>\n",
              "      <td>Austin</td>\n",
              "      <td>72000</td>\n",
              "    </tr>\n",
              "  </tbody>\n",
              "</table>\n",
              "</div>"
            ],
            "text/plain": [
              "   id     name  age           city  salary\n",
              "0   1    Alice   29       New York   85000\n",
              "1   2      Bob   35  San Francisco  120000\n",
              "2   3  Charlie   42        Chicago   95000\n",
              "3   4    Diana   31        Seattle   99000\n",
              "4   5     Eric   26         Austin   72000"
            ]
          },
          "execution_count": 1,
          "metadata": {},
          "output_type": "execute_result"
        }
      ],
      "source": [
        "import pandas as pd\n",
        "import matplotlib.pyplot as plt\n",
        "\n",
        "# Create a small in-memory dataset (no files)\n",
        "names = ['Alice', 'Bob', 'Charlie', 'Diana', 'Eric']\n",
        "cities = ['New York', 'San Francisco', 'Chicago', 'Seattle', 'Austin']\n",
        "ages = [29, 35, 42, 31, 26]\n",
        "salaries = [85000, 120000, 95000, 99000, 72000]\n",
        "\n",
        "df = pd.DataFrame({\n",
        "    'id': range(1, 6),\n",
        "    'name': names,\n",
        "    'age': ages,\n",
        "    'city': cities,\n",
        "    'salary': salaries,\n",
        "})\n",
        "df.head()"
      ]
    }
  ],
  "metadata": {
    "kernelspec": {
      "display_name": "Python 3",
      "language": "python",
      "name": "python3"
    },
    "language_info": {
      "codemirror_mode": {
        "name": "ipython",
        "version": 3
      },
      "file_extension": ".py",
      "mimetype": "text/x-python",
      "name": "python",
      "nbconvert_exporter": "python",
      "pygments_lexer": "ipython3",
      "version": "3.13.7"
    }
  },
  "nbformat": 4,
  "nbformat_minor": 5
}
